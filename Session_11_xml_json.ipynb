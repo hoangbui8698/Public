{
 "cells": [
  {
   "cell_type": "markdown",
   "metadata": {
    "colab_type": "text",
    "id": "2uDoZOA3uPqX"
   },
   "source": [
    "**Quick test**"
   ]
  },
  {
   "cell_type": "markdown",
   "metadata": {},
   "source": [
    "Thực hiện chuyển đổi dử liệu từ định dạng `xml_in` sang định dạng `xml_out` như format được định nghĩa bên dưới:\n",
    "Với mỗi `mark` từ xml_in tìm `xmin, ymin, xmax, ymax` và thêm 1 `bndbox` vào `xml_out` với thông tin tương ứng"
   ]
  },
  {
   "cell_type": "code",
   "execution_count": null,
   "metadata": {
    "colab": {},
    "colab_type": "code",
    "id": "JwkFKwUvzE23"
   },
   "outputs": [],
   "source": [
    "import xml.etree.ElementTree as ET\n",
    "import json"
   ]
  },
  {
   "cell_type": "code",
   "execution_count": null,
   "metadata": {
    "colab": {},
    "colab_type": "code",
    "id": "7gqrVfXUuTBg"
   },
   "outputs": [],
   "source": [
    "xml_in = \"\"\"\n",
    "<case>\n",
    "    <number>1</number>\n",
    "    <age></age>\n",
    "    <sex></sex>\n",
    "    <composition></composition>\n",
    "    <echogenicity></echogenicity>\n",
    "    <margins></margins>\n",
    "    <calcifications></calcifications>\n",
    "    <tirads></tirads>\n",
    "    <reportbacaf></reportbacaf>\n",
    "    <reporteco></reporteco>\n",
    "    <mark>\n",
    "        <image>1</image>\n",
    "        <svg>[{\"points\": [{\"x\": 385, \"y\": 182}, {\"x\": 398, \"y\": 179}, {\"x\": 404, \"y\": 176}, {\"x\": 409, \"y\": 173}, {\"x\":\n",
    "            415, \"y\": 159}, {\"x\": 417, \"y\": 153}, {\"x\": 421, \"y\": 143}, {\"x\": 421, \"y\": 136}, {\"x\": 419, \"y\": 76}, {\"x\":\n",
    "            412, \"y\": 73}, {\"x\": 406, \"y\": 69}, {\"x\": 393, \"y\": 61}, {\"x\": 390, \"y\": 57}, {\"x\": 383, \"y\": 53}, {\"x\":\n",
    "            378, \"y\": 50}, {\"x\": 369, \"y\": 44}, {\"x\": 360, \"y\": 42}, {\"x\": 352, \"y\": 42}, {\"x\": 348, \"y\": 42}, {\"x\":\n",
    "            340, \"y\": 41}, {\"x\": 331, \"y\": 40}, {\"x\": 321, \"y\": 40}, {\"x\": 311, \"y\": 39}, {\"x\": 304, \"y\": 39}, {\"x\":\n",
    "            294, \"y\": 42}, {\"x\": 270, \"y\": 43}, {\"x\": 264, \"y\": 42}, {\"x\": 253, \"y\": 41}, {\"x\": 242, \"y\": 39}, {\"x\":\n",
    "            231, \"y\": 37}, {\"x\": 221, \"y\": 36}, {\"x\": 209, \"y\": 35}, {\"x\": 190, \"y\": 39}, {\"x\": 164, \"y\": 49}, {\"x\":\n",
    "            158, \"y\": 51}, {\"x\": 146, \"y\": 69}, {\"x\": 137, \"y\": 80}, {\"x\": 133, \"y\": 89}, {\"x\": 136, \"y\": 236}, {\"x\":\n",
    "            142, \"y\": 244}, {\"x\": 149, \"y\": 251}, {\"x\": 161, \"y\": 261}, {\"x\": 210, \"y\": 271}, {\"x\": 217, \"y\": 274},\n",
    "            {\"x\": 223, \"y\": 279}, {\"x\": 228, \"y\": 284}, {\"x\": 235, \"y\": 290}, {\"x\": 261, \"y\": 294}, {\"x\": 301, \"y\":\n",
    "            296}, {\"x\": 309, \"y\": 294}, {\"x\": 320, \"y\": 287}, {\"x\": 326, \"y\": 283}, {\"x\": 327, \"y\": 281}, {\"x\": 332,\n",
    "            \"y\": 271}, {\"x\": 338, \"y\": 263}, {\"x\": 347, \"y\": 253}, {\"x\": 348, \"y\": 240}, {\"x\": 349, \"y\": 222}, {\"x\":\n",
    "            360, \"y\": 212}, {\"x\": 369, \"y\": 207}, {\"x\": 372, \"y\": 198}, {\"x\": 382, \"y\": 183}, {\"x\": 383, \"y\": 181},\n",
    "            {\"x\": 386, \"y\": 181}], \"annotation\": {}, \"regionType\": \"freehand\"}]\n",
    "        </svg>\n",
    "    </mark>\n",
    "    <mark>\n",
    "        <image>2</image>\n",
    "        <svg>[{\"points\": [{\"x\": 417, \"y\": 155}, {\"x\": 418, \"y\": 76}, {\"x\": 413, \"y\": 73}, {\"x\": 406, \"y\": 70}, {\"x\":\n",
    "            401, \"y\": 62}, {\"x\": 393, \"y\": 56}, {\"x\": 388, \"y\": 52}, {\"x\": 383, \"y\": 42}, {\"x\": 374, \"y\": 41}, {\"x\":\n",
    "            365, \"y\": 41}, {\"x\": 355, \"y\": 41}, {\"x\": 347, \"y\": 40}, {\"x\": 340, \"y\": 40}, {\"x\": 330, \"y\": 40}, {\"x\":\n",
    "            325, \"y\": 39}, {\"x\": 318, \"y\": 39}, {\"x\": 313, \"y\": 39}, {\"x\": 301, \"y\": 39}, {\"x\": 277, \"y\": 39}, {\"x\":\n",
    "            264, \"y\": 39}, {\"x\": 249, \"y\": 41}, {\"x\": 241, \"y\": 41}, {\"x\": 236, \"y\": 37}, {\"x\": 220, \"y\": 35}, {\"x\":\n",
    "            207, \"y\": 35}, {\"x\": 194, \"y\": 42}, {\"x\": 183, \"y\": 46}, {\"x\": 172, \"y\": 52}, {\"x\": 160, \"y\": 57}, {\"x\":\n",
    "            137, \"y\": 88}, {\"x\": 136, \"y\": 104}, {\"x\": 144, \"y\": 241}, {\"x\": 148, \"y\": 242}, {\"x\": 159, \"y\": 243}, {\"x\":\n",
    "            173, \"y\": 244}, {\"x\": 181, \"y\": 250}, {\"x\": 188, \"y\": 258}, {\"x\": 192, \"y\": 264}, {\"x\": 200, \"y\": 274},\n",
    "            {\"x\": 208, \"y\": 277}, {\"x\": 232, \"y\": 285}, {\"x\": 241, \"y\": 288}, {\"x\": 288, \"y\": 296}, {\"x\": 310, \"y\":\n",
    "            296}, {\"x\": 322, \"y\": 290}, {\"x\": 327, \"y\": 284}, {\"x\": 332, \"y\": 274}, {\"x\": 338, \"y\": 264}, {\"x\": 344,\n",
    "            \"y\": 258}, {\"x\": 348, \"y\": 251}, {\"x\": 350, \"y\": 242}, {\"x\": 354, \"y\": 226}, {\"x\": 356, \"y\": 217}, {\"x\":\n",
    "            367, \"y\": 206}, {\"x\": 390, \"y\": 204}, {\"x\": 395, \"y\": 204}, {\"x\": 404, \"y\": 203}, {\"x\": 410, \"y\": 200},\n",
    "            {\"x\": 417, \"y\": 193}, {\"x\": 419, \"y\": 190}, {\"x\": 417, \"y\": 153}], \"annotation\": {}, \"regionType\":\n",
    "            \"freehand\"}]\n",
    "        </svg>\n",
    "    </mark>\n",
    "</case>\"\"\""
   ]
  },
  {
   "cell_type": "code",
   "execution_count": null,
   "metadata": {
    "colab": {},
    "colab_type": "code",
    "id": "KZVtOL_2wClj"
   },
   "outputs": [],
   "source": [
    "xml_out = \"\"\"\n",
    "<annotations>\n",
    "    <folder>images</folder>\n",
    "    <filename>1_1.jpg</filename>\n",
    "    <folder>VOC</folder>\n",
    "    <size>\n",
    "        <width>560</width>\n",
    "        <height>360</height>\n",
    "        <depth>3</depth>\n",
    "    </size>\n",
    "    <object>\n",
    "        <name>thyroid_cancer</name>\n",
    "        <pose>Unspecified</pose>\n",
    "        <truncated>0</truncated>\n",
    "        <difficult>0</difficult>\n",
    "        <bndbox>\n",
    "            <xmin>142</xmin>\n",
    "            <ymin>161</ymin>\n",
    "            <xmax>430</xmax>\n",
    "            <ymax>287</ymax>\n",
    "        </bndbox>\n",
    "    </object>\n",
    "</annotations>\"\"\""
   ]
  },
  {
   "cell_type": "code",
   "execution_count": null,
   "metadata": {
    "colab": {},
    "colab_type": "code",
    "id": "FGHQP4srxcbZ"
   },
   "outputs": [],
   "source": [
    "tree_in = ET.parse('input.txt')\n",
    "\n",
    "\n",
    "root_in = tree_in.getroot()\n"
   ]
  }
 ],
 "metadata": {
  "colab": {
   "collapsed_sections": [],
   "name": "xml_cheatsheet.ipynb",
   "provenance": []
  },
  "kernelspec": {
   "display_name": "Python 3 (ipykernel)",
   "language": "python",
   "name": "python3"
  },
  "language_info": {
   "codemirror_mode": {
    "name": "ipython",
    "version": 3
   },
   "file_extension": ".py",
   "mimetype": "text/x-python",
   "name": "python",
   "nbconvert_exporter": "python",
   "pygments_lexer": "ipython3",
   "version": "3.8.10"
  }
 },
 "nbformat": 4,
 "nbformat_minor": 4
}
